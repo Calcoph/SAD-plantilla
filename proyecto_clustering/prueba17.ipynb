{
 "cells": [
  {
   "cell_type": "code",
   "execution_count": 3,
   "metadata": {},
   "outputs": [
    {
     "name": "stderr",
     "output_type": "stream",
     "text": [
      "[nltk_data] Downloading package wordnet to\n",
      "[nltk_data]     C:\\Users\\diego\\AppData\\Roaming\\nltk_data...\n",
      "[nltk_data]   Package wordnet is already up-to-date!\n"
     ]
    },
    {
     "name": "stdout",
     "output_type": "stream",
     "text": [
      "Number of unique tokens: 465\n",
      "Number of documents: 2633\n",
      "Number of unique tokens: 481\n",
      "Number of documents: 2633\n",
      "Number of unique tokens: 481\n",
      "Number of documents: 2633\n",
      "Number of unique tokens: 481\n",
      "Number of documents: 2633\n",
      "Number of unique tokens: 481\n",
      "Number of documents: 2633\n",
      "Number of unique tokens: 482\n",
      "Number of documents: 2633\n",
      "Number of unique tokens: 482\n",
      "Number of documents: 2633\n",
      "Number of unique tokens: 482\n",
      "Number of documents: 2633\n",
      "Number of unique tokens: 482\n",
      "Number of documents: 2633\n",
      "Number of unique tokens: 482\n",
      "Number of documents: 2633\n",
      "Number of unique tokens: 482\n",
      "Number of documents: 2633\n",
      "Number of unique tokens: 482\n",
      "Number of documents: 2633\n",
      "Number of unique tokens: 482\n",
      "Number of documents: 2633\n",
      "Number of unique tokens: 482\n",
      "Number of documents: 2633\n",
      "Number of unique tokens: 482\n",
      "Number of documents: 2633\n",
      "Number of unique tokens: 482\n",
      "Number of documents: 2633\n",
      "Number of unique tokens: 482\n",
      "Number of documents: 2633\n"
     ]
    }
   ],
   "source": [
    "import pandas as pd\n",
    "from gensim.corpora import Dictionary\n",
    "from gensim.models import LdaModel\n",
    "from gensim.parsing.preprocessing import remove_stopwords, strip_punctuation, strip_numeric, STOPWORDS\n",
    "import nltk\n",
    "nltk.download(\"wordnet\")\n",
    "\n",
    "from nltk.tokenize import RegexpTokenizer\n",
    "from nltk.stem.wordnet import WordNetLemmatizer\n",
    "from gensim.models import Phrases\n",
    "\n",
    "import crear_modelo_config\n",
    "\n",
    "if __name__ == \"__main__\":\n",
    "    ml_dataset = pd.read_csv(\"TweetsTrainDev.csv\")\n",
    "    ml_dataset.drop(ml_dataset[ml_dataset[\"airline\"] != \"United\"].index, inplace = True)\n",
    "    ml_dataset.drop(ml_dataset[ml_dataset[\"airline_sentiment\"] != \"negative\"].index, inplace = True)\n",
    "\n",
    "    docs = list(ml_dataset[\"text\"])\n",
    "    original_docs = docs[:]\n",
    "    # Split the documents into tokens.\n",
    "    tokenizer = RegexpTokenizer(r'\\w+')\n",
    "\n",
    "    stopwords = STOPWORDS.union(frozenset([\"ua\", \"we\", \"on\", \"me\", \"you\"])).difference([\"kg\", \"before\", \"over\", \"system\", \"serious\", \"off\", \"take\", \"nowhere\", \"found\"])\n",
    "    for idx in range(len(docs)):\n",
    "        docs[idx] = docs[idx].lower()  # Convert to lowercase.\n",
    "        docs[idx] = remove_stopwords(docs[idx], STOPWORDS)\n",
    "        docs[idx] = strip_punctuation(docs[idx])\n",
    "        docs[idx] = tokenizer.tokenize(docs[idx])  # Split into words.\"\"\"\n",
    "\n",
    "    # Remove numbers, but not words that contain numbers.\n",
    "    docs = [[token for token in doc if not token.isnumeric()] for doc in docs]\n",
    "\n",
    "    # Remove words that are only one character.\n",
    "    docs = [[token for token in doc if len(token) > 1] for doc in docs]\n",
    "\n",
    "    lemmatizer = WordNetLemmatizer()\n",
    "    docs = [[lemmatizer.lemmatize(token) for token in doc] for doc in docs]\n",
    "\n",
    "    # Add bigrams and trigrams to docs (only ones that appear 20 times or more).\n",
    "    bigram = Phrases(docs, min_count=20)\n",
    "    for idx in range(len(docs)):\n",
    "        for token in bigram[docs[idx]]:\n",
    "            if '_' in token:\n",
    "                # Token is a bigram, add to document.\n",
    "                docs[idx].append(token)\n",
    "\n",
    "\n",
    "    # Set training parameters.\n",
    "    num_topics = 12\n",
    "    chunksize = 2000\n",
    "    passes = 20\n",
    "    iterations = 400\n",
    "    eval_every = None  # Don't evaluate model perplexity, takes too much time.\n",
    "\n",
    "    diccionarios = []\n",
    "    models = []\n",
    "    for i in range(5, 90, 5):\n",
    "        # Create a dictionary representation of the documents.\n",
    "        dictionary = Dictionary(docs)\n",
    "\n",
    "        no_above = i / 100.0\n",
    "        # Filter out words that occur less than 20 documents, or more than 50% of the documents.\n",
    "        dictionary.filter_extremes(no_below=10, no_above=no_above)\n",
    "\n",
    "        # Bag-of-words representation of the documents.\n",
    "        corpus = [dictionary.doc2bow(doc) for doc in docs]\n",
    "\n",
    "        print('Number of unique tokens: %d' % len(dictionary))\n",
    "        print('Number of documents: %d' % len(corpus))\n",
    "\n",
    "        # Make an index to word dictionary.\n",
    "        temp = dictionary[0]  # This is only to \"load\" the dictionary.\n",
    "        id2word = dictionary.id2token\n",
    "        model = LdaModel(\n",
    "            corpus=corpus,\n",
    "            id2word=id2word,\n",
    "            chunksize=chunksize,\n",
    "            alpha='auto',\n",
    "            eta='auto',\n",
    "            iterations=iterations,\n",
    "            num_topics=num_topics,\n",
    "            passes=passes,\n",
    "            eval_every=eval_every # type: ignore\n",
    "        )\n",
    "        models.append(model)\n",
    "\n",
    "        #diccionario = Dictionary(ml_dataset.Tokens)\n",
    "\n",
    "        diccionarios.append(dictionary)"
   ]
  },
  {
   "cell_type": "code",
   "execution_count": 4,
   "metadata": {},
   "outputs": [
    {
     "name": "stdout",
     "output_type": "stream",
     "text": [
      "17\n",
      "17\n"
     ]
    }
   ],
   "source": [
    "print(len(models))\n",
    "print(len(diccionarios))"
   ]
  },
  {
   "cell_type": "code",
   "execution_count": 5,
   "metadata": {},
   "outputs": [
    {
     "name": "stdout",
     "output_type": "stream",
     "text": [
      "no_above: 0.05, avg_coherence: 0.3806636202681057\n",
      "no_above: 0.1, avg_coherence: 0.3223632255518915\n",
      "no_above: 0.15000000000000002, avg_coherence: 0.30077996848961724\n",
      "no_above: 0.2, avg_coherence: 0.3490590229401926\n",
      "no_above: 0.25, avg_coherence: 0.32147515835758095\n",
      "no_above: 0.3, avg_coherence: 0.3210948108688753\n",
      "no_above: 0.35, avg_coherence: 0.2953082760968496\n",
      "no_above: 0.39999999999999997, avg_coherence: 0.3303200491162321\n",
      "no_above: 0.44999999999999996, avg_coherence: 0.3207525610466063\n",
      "no_above: 0.49999999999999994, avg_coherence: 0.3093701390101204\n",
      "no_above: 0.5499999999999999, avg_coherence: 0.3227734346702073\n",
      "no_above: 0.6, avg_coherence: 0.32446979030126416\n",
      "no_above: 0.65, avg_coherence: 0.29900962298269734\n",
      "no_above: 0.7000000000000001, avg_coherence: 0.3054568308258149\n",
      "no_above: 0.7500000000000001, avg_coherence: 0.3140585923804073\n",
      "no_above: 0.8000000000000002, avg_coherence: 0.3458843268109842\n",
      "no_above: 0.8500000000000002, avg_coherence: 0.3239659621323514\n"
     ]
    }
   ],
   "source": [
    "coherences = []\n",
    "no_above_arr = []\n",
    "\n",
    "no_above = 0.05\n",
    "for (model, dictionary) in zip(models, diccionarios):\n",
    "        top_topics = model.top_topics(texts=docs, dictionary=dictionary, coherence=\"c_v\")\n",
    "        # Average topic coherence is the sum of topic coherences of all topics, divided by the number of topics.\n",
    "        avg_topic_coherence = sum([t[1] for t in top_topics]) / num_topics\n",
    "        #print('Average topic coherence: %.4f.' % avg_topic_coherence)\n",
    "\n",
    "        coherences.append(avg_topic_coherence)\n",
    "        no_above_arr.append(no_above)\n",
    "        print(f\"no_above: {no_above}, avg_coherence: {avg_topic_coherence}\")\n",
    "        no_above += 0.05"
   ]
  },
  {
   "cell_type": "code",
   "execution_count": 6,
   "metadata": {},
   "outputs": [
    {
     "data": {
      "image/png": "[encoded data removed]",
      "text/plain": [
       "<Figure size 640x480 with 1 Axes>"
      ]
     },
     "metadata": {},
     "output_type": "display_data"
    }
   ],
   "source": [
    "\n",
    "import matplotlib.pyplot as plt\n",
    "import numpy as np\n",
    "\n",
    "valores = np.array(coherences)\n",
    "etiquetas = np.array(no_above_arr)\n",
    "\n",
    "plt.plot(etiquetas, valores)\n",
    "plt.show()\n"
   ]
  }
 ],
 "metadata": {
  "kernelspec": {
   "display_name": "sadvenv",
   "language": "python",
   "name": "python3"
  },
  "language_info": {
   "codemirror_mode": {
    "name": "ipython",
    "version": 3
   },
   "file_extension": ".py",
   "mimetype": "text/x-python",
   "name": "python",
   "nbconvert_exporter": "python",
   "pygments_lexer": "ipython3",
   "version": "3.10.11"
  },
  "orig_nbformat": 4
 },
 "nbformat": 4,
 "nbformat_minor": 2
}
