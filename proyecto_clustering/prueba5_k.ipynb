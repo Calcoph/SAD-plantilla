{
 "cells": [
  {
   "cell_type": "code",
   "execution_count": 4,
   "metadata": {},
   "outputs": [
    {
     "name": "stderr",
     "output_type": "stream",
     "text": [
      "[nltk_data] Downloading package wordnet to /home/diego/nltk_data...\n",
      "[nltk_data]   Package wordnet is already up-to-date!\n"
     ]
    },
    {
     "name": "stdout",
     "output_type": "stream",
     "text": [
      "Number of unique tokens: 245\n",
      "Number of documents: 2633\n"
     ]
    }
   ],
   "source": [
    "import pandas as pd\n",
    "from gensim.corpora import Dictionary\n",
    "from gensim.models import LdaModel\n",
    "from gensim.parsing.preprocessing import remove_stopwords, strip_punctuation, strip_numeric, STOPWORDS\n",
    "import nltk\n",
    "nltk.download(\"wordnet\")\n",
    "\n",
    "from nltk.tokenize import RegexpTokenizer\n",
    "from nltk.stem.wordnet import WordNetLemmatizer\n",
    "from gensim.models import Phrases\n",
    "\n",
    "import crear_modelo_config\n",
    "\n",
    "if __name__ == \"__main__\":\n",
    "    ml_dataset = pd.read_csv(\"TweetsTrainDev.csv\")\n",
    "    ml_dataset.drop(ml_dataset[ml_dataset[\"airline\"] != \"United\"].index, inplace = True)\n",
    "    ml_dataset.drop(ml_dataset[ml_dataset[\"airline_sentiment\"] != \"negative\"].index, inplace = True)\n",
    "\n",
    "    docs = list(ml_dataset[\"text\"])\n",
    "    original_docs = docs[:]\n",
    "    # Split the documents into tokens.\n",
    "    tokenizer = RegexpTokenizer(r'\\w+')\n",
    "\n",
    "    stopwords = STOPWORDS.union(frozenset([\"ua\", \"we\", \"on\", \"me\", \"you\"])).difference([\"kg\", \"before\", \"over\", \"system\", \"serious\", \"off\", \"take\", \"nowhere\", \"found\"])\n",
    "    for idx in range(len(docs)):\n",
    "        docs[idx] = docs[idx].lower()  # Convert to lowercase.\n",
    "        docs[idx] = remove_stopwords(docs[idx], STOPWORDS)\n",
    "        docs[idx] = strip_punctuation(docs[idx])\n",
    "        docs[idx] = tokenizer.tokenize(docs[idx])  # Split into words.\"\"\"\n",
    "\n",
    "    # Remove numbers, but not words that contain numbers.\n",
    "    docs = [[token for token in doc if not token.isnumeric()] for doc in docs]\n",
    "\n",
    "    # Remove words that are only one character.\n",
    "    docs = [[token for token in doc if len(token) > 1] for doc in docs]\n",
    "\n",
    "    lemmatizer = WordNetLemmatizer()\n",
    "    docs = [[lemmatizer.lemmatize(token) for token in doc] for doc in docs]\n",
    "\n",
    "    # Add bigrams and trigrams to docs (only ones that appear 20 times or more).\n",
    "    bigram = Phrases(docs, min_count=20)\n",
    "    for idx in range(len(docs)):\n",
    "        for token in bigram[docs[idx]]:\n",
    "            if '_' in token:\n",
    "                # Token is a bigram, add to document.\n",
    "                docs[idx].append(token)\n",
    "    \n",
    "    # Create a dictionary representation of the documents.\n",
    "    dictionary = Dictionary(docs)\n",
    "\n",
    "    # Filter out words that occur less than 20 documents, or more than 50% of the documents.\n",
    "    dictionary.filter_extremes(no_below=20, no_above=0.1)\n",
    "\n",
    "    # Bag-of-words representation of the documents.\n",
    "    corpus = [dictionary.doc2bow(doc) for doc in docs]\n",
    "\n",
    "    print('Number of unique tokens: %d' % len(dictionary))\n",
    "    print('Number of documents: %d' % len(corpus))\n",
    "\n",
    "    # Set training parameters.\n",
    "    #num_topics = 12\n",
    "    chunksize = 2000\n",
    "    passes = 20\n",
    "    iterations = 400\n",
    "    eval_every = None  # Don't evaluate model perplexity, takes too much time.\n",
    "    # Make an index to word dictionary.\n",
    "    temp = dictionary[0]  # This is only to \"load\" the dictionary.\n",
    "    id2word = dictionary.id2token\n",
    "    models = []\n",
    "    for num_topics in range(2, 30):\n",
    "        model = LdaModel(\n",
    "            corpus=corpus,\n",
    "            id2word=id2word,\n",
    "            chunksize=chunksize,\n",
    "            alpha='auto',\n",
    "            eta='auto',\n",
    "            iterations=iterations,\n",
    "            num_topics=num_topics,\n",
    "            passes=passes,\n",
    "            eval_every=eval_every # type: ignore\n",
    "        )\n",
    "        models.append(model)\n",
    "\n",
    "    #diccionario = Dictionary(ml_dataset.Tokens)"
   ]
  },
  {
   "cell_type": "code",
   "execution_count": 20,
   "metadata": {},
   "outputs": [
    {
     "name": "stdout",
     "output_type": "stream",
     "text": [
      "num_topics: 2, avg_coherence: 0.2061275292751723\n",
      "num_topics: 3, avg_coherence: 0.2679790684269109\n",
      "num_topics: 4, avg_coherence: 0.249488824715838\n",
      "num_topics: 5, avg_coherence: 0.24995323388263352\n",
      "num_topics: 6, avg_coherence: 0.23823834849222494\n",
      "num_topics: 7, avg_coherence: 0.2631357967369502\n",
      "num_topics: 8, avg_coherence: 0.2652265114785607\n",
      "num_topics: 9, avg_coherence: 0.27839870382772347\n",
      "num_topics: 10, avg_coherence: 0.30415473394098425\n",
      "num_topics: 11, avg_coherence: 0.2894650907839042\n",
      "num_topics: 12, avg_coherence: 0.32547755189672367\n",
      "num_topics: 13, avg_coherence: 0.35066820498382306\n",
      "num_topics: 14, avg_coherence: 0.31535309052354693\n",
      "num_topics: 15, avg_coherence: 0.31227723448394445\n",
      "num_topics: 16, avg_coherence: 0.3240977355349203\n",
      "num_topics: 17, avg_coherence: 0.3351125548469759\n",
      "num_topics: 18, avg_coherence: 0.3156322889415668\n",
      "num_topics: 19, avg_coherence: 0.333185614242273\n",
      "num_topics: 20, avg_coherence: 0.3492191832832675\n",
      "num_topics: 21, avg_coherence: 0.32923015768950153\n",
      "num_topics: 22, avg_coherence: 0.34024735009357615\n",
      "num_topics: 23, avg_coherence: 0.32369109283574926\n",
      "num_topics: 24, avg_coherence: 0.32565216525255253\n",
      "num_topics: 25, avg_coherence: 0.3377023204945799\n",
      "num_topics: 26, avg_coherence: 0.36041264856316396\n",
      "num_topics: 27, avg_coherence: 0.3390792738167803\n",
      "num_topics: 28, avg_coherence: 0.33727005007999894\n",
      "num_topics: 29, avg_coherence: 0.3323598054659911\n"
     ]
    }
   ],
   "source": [
    "coherences = []\n",
    "num_top_arr = []\n",
    "\n",
    "num_topics = 2\n",
    "for model in models:\n",
    "        top_topics = model.top_topics(texts=docs, dictionary=dictionary, coherence=\"c_v\")\n",
    "        # Average topic coherence is the sum of topic coherences of all topics, divided by the number of topics.\n",
    "        avg_topic_coherence = sum([t[1] for t in top_topics]) / num_topics\n",
    "        #print('Average topic coherence: %.4f.' % avg_topic_coherence)\n",
    "\n",
    "        coherences.append(avg_topic_coherence)\n",
    "        num_top_arr.append(num_topics)\n",
    "        print(f\"num_topics: {num_topics}, avg_coherence: {avg_topic_coherence}\")\n",
    "        num_topics += 1"
   ]
  },
  {
   "cell_type": "code",
   "execution_count": 22,
   "metadata": {},
   "outputs": [
    {
     "data": {
      "image/png": "[encoded data removed]",
      "text/plain": [
       "<Figure size 640x480 with 1 Axes>"
      ]
     },
     "metadata": {},
     "output_type": "display_data"
    }
   ],
   "source": [
    "\n",
    "import matplotlib.pyplot as plt\n",
    "import numpy as np\n",
    "\n",
    "valores = np.array(coherences)\n",
    "etiquetas = np.array(num_top_arr)\n",
    "\n",
    "plt.plot(etiquetas, valores)\n",
    "plt.show()\n"
   ]
  }
 ],
 "metadata": {
  "kernelspec": {
   "display_name": "sadvenv",
   "language": "python",
   "name": "python3"
  },
  "language_info": {
   "codemirror_mode": {
    "name": "ipython",
    "version": 3
   },
   "file_extension": ".py",
   "mimetype": "text/x-python",
   "name": "python",
   "nbconvert_exporter": "python",
   "pygments_lexer": "ipython3",
   "version": "3.10.6"
  },
  "orig_nbformat": 4
 },
 "nbformat": 4,
 "nbformat_minor": 2
}
